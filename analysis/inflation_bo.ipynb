{
 "cells": [
  {
   "attachments": {},
   "cell_type": "markdown",
   "metadata": {},
   "source": [
    "# A Better-than-nothing Proposal for Calculating Box Office Inflation\n",
    "#### *Author*: Austin Villegas\n",
    "#### *Last Updated*: 05/23/2023"
   ]
  },
  {
   "attachments": {},
   "cell_type": "markdown",
   "metadata": {},
   "source": [
    "# Table of Contents\n",
    "\n",
    "1. [Problem Statement](#problem_statement)\n",
    "    * [Goals](#goals)\n",
    "2. [Previous Work](#previous_work)   \n",
    "    * [Box Office Mojo](#box_office_mojo)\n",
    "    * [The Numbers](#the_numbers)\n",
    "4. [Proposal](#proposal)"
   ]
  },
  {
   "attachments": {},
   "cell_type": "markdown",
   "metadata": {},
   "source": [
    "# Problem Statement\n",
    "\n",
    "### Goals"
   ]
  },
  {
   "attachments": {},
   "cell_type": "markdown",
   "metadata": {},
   "source": [
    "# Previous Work\n",
    "\n",
    "### Box Office Mojo\n",
    "\n",
    "### The Numbers"
   ]
  },
  {
   "attachments": {},
   "cell_type": "markdown",
   "metadata": {},
   "source": [
    "# Proposal"
   ]
  }
 ],
 "metadata": {
  "language_info": {
   "name": "python"
  },
  "orig_nbformat": 4
 },
 "nbformat": 4,
 "nbformat_minor": 2
}

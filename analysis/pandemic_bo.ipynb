{
 "cells": [
  {
   "attachments": {},
   "cell_type": "markdown",
   "metadata": {},
   "source": [
    "# The Domestic Movie Box Office Before, After, and During the COVID-19 Pandemic\n",
    "#### *Author*: Austin Villegas\n",
    "#### *Last Updated*: 05/23/2023"
   ]
  },
  {
   "attachments": {},
   "cell_type": "markdown",
   "metadata": {},
   "source": [
    "# Table of Contents\n",
    "\n",
    "1. [Problem Statement](#problem_statement)\n",
    "    * [Definitions](#definitions)\n",
    "    * [Goals](#goals)\n",
    "2. [Analysis](#analysis)   \n",
    "    * [Imports](#imports)\n",
    "    * [Data Cleaning](#data_cleaning)\n",
    "    * [Test for Normality](#test_for_normality)\n",
    "    * [z-Test vs. t-Test](#z_test_vs_t_test)\n",
    "    * [Confidence Intervals](#confidence_intervals)\n",
    "    * [Analysis of Variance (ANOVA)](#anova)\n",
    "3. [Conclusion](#conclusion)"
   ]
  },
  {
   "attachments": {},
   "cell_type": "markdown",
   "metadata": {},
   "source": [
    "<a id=\"problem_statement\"></a> \n",
    "# Problem Statement \n",
    "\n",
    "<a id=\"definitions\"></a> \n",
    "### Definitions\n",
    "\n",
    "<a id=\"goals\"></a> \n",
    "### Goals"
   ]
  },
  {
   "attachments": {},
   "cell_type": "markdown",
   "metadata": {},
   "source": [
    "<a id=\"analysis\"></a> \n",
    "# Analysis "
   ]
  },
  {
   "attachments": {},
   "cell_type": "markdown",
   "metadata": {},
   "source": [
    "<a id=\"imports\"></a> \n",
    "### Imports"
   ]
  },
  {
   "attachments": {},
   "cell_type": "markdown",
   "metadata": {},
   "source": [
    "<a id=\"data_cleaning\"></a> \n",
    "### Data Cleaning"
   ]
  },
  {
   "attachments": {},
   "cell_type": "markdown",
   "metadata": {},
   "source": [
    "<a id=\"test_for_normality\"></a> \n",
    "### Test for Normality"
   ]
  },
  {
   "attachments": {},
   "cell_type": "markdown",
   "metadata": {},
   "source": [
    "<a id=\"z_test_vs_t_test\"></a> \n",
    "### z-Test vs t-Test"
   ]
  },
  {
   "attachments": {},
   "cell_type": "markdown",
   "metadata": {},
   "source": [
    "<a id=\"confidence_intervals\"></a> \n",
    "### Confidence Intervals"
   ]
  },
  {
   "attachments": {},
   "cell_type": "markdown",
   "metadata": {},
   "source": [
    "<a id=\"anova\"></a> \n",
    "### Analysis of Variance (ANOVA)"
   ]
  },
  {
   "attachments": {},
   "cell_type": "markdown",
   "metadata": {},
   "source": [
    "<a id=\"conclusion\"></a> \n",
    "# Conclusion "
   ]
  }
 ],
 "metadata": {
  "kernelspec": {
   "display_name": "base",
   "language": "python",
   "name": "python3"
  },
  "language_info": {
   "name": "python",
   "version": "3.9.7"
  },
  "orig_nbformat": 4,
  "vscode": {
   "interpreter": {
    "hash": "eda7169a73b899e3a4265a2c61d87a7732123594a73e74f27b74e7579ab96fbe"
   }
  }
 },
 "nbformat": 4,
 "nbformat_minor": 2
}

{
 "cells": [
  {
   "attachments": {},
   "cell_type": "markdown",
   "metadata": {},
   "source": [
    "# The Domestic Movie Box Office Before, After, and During the COVID-19 Pandemic\n",
    "#### *Author*: Austin Villegas\n",
    "#### *Last Updated*: 05/23/2023"
   ]
  },
  {
   "attachments": {},
   "cell_type": "markdown",
   "metadata": {},
   "source": [
    "# Table of Contents\n",
    "\n",
    "1. [Problem Statement](#problem_statement)\n",
    "    * [Definitions](#definitions)\n",
    "    * [Goals](#goals)\n",
    "2. [Analysis](#analysis)   \n",
    "    * [Imports](#imports)\n",
    "    * [Data Cleaning](#data_cleaning)\n",
    "    * [Test for Normality](#test_for_normality)\n",
    "    * [z-Test vs. t-Test](#z_test_vs_t_test)\n",
    "    * [Confidence Intervals](#confidence_intervals)\n",
    "    * [Analysis of Variance (ANOVA)](#anova)\n",
    "3. [Conclusion](#conclusion)"
   ]
  },
  {
   "attachments": {},
   "cell_type": "markdown",
   "metadata": {},
   "source": [
    "<a id=\"problem_statement\"></a> \n",
    "# Problem Statement \n",
    "\n",
    "<a id=\"definitions\"></a> \n",
    "### Definitions\n",
    "\n",
    "<a id=\"goals\"></a> \n",
    "### Goals"
   ]
  },
  {
   "attachments": {},
   "cell_type": "markdown",
   "metadata": {},
   "source": [
    "<a id=\"analysis\"></a> \n",
    "# Analysis "
   ]
  },
  {
   "attachments": {},
   "cell_type": "markdown",
   "metadata": {},
   "source": [
    "<a id=\"imports\"></a> \n",
    "### Imports"
   ]
  },
  {
   "cell_type": "code",
   "execution_count": 367,
   "metadata": {},
   "outputs": [],
   "source": [
    "# general\n",
    "import pandas as pd\n",
    "import numpy as np\n",
    "import datetime as dt\n",
    "\n",
    "# visualization\n",
    "import matplotlib.pyplot as plt \n",
    "\n",
    "# other\n",
    "from tqdm.auto import tqdm\n",
    "import re\n",
    "\n",
    "# warnings\n",
    "import warnings\n",
    "warnings.simplefilter(action='ignore', category=FutureWarning)"
   ]
  },
  {
   "attachments": {},
   "cell_type": "markdown",
   "metadata": {},
   "source": [
    "<a id=\"data_cleaning\"></a> \n",
    "### Data Cleaning"
   ]
  },
  {
   "attachments": {},
   "cell_type": "markdown",
   "metadata": {},
   "source": [
    "#### Removing Non-Numeric Values and Setting the Data Types"
   ]
  },
  {
   "cell_type": "code",
   "execution_count": 368,
   "metadata": {},
   "outputs": [
    {
     "data": {
      "text/html": [
       "<div>\n",
       "<style scoped>\n",
       "    .dataframe tbody tr th:only-of-type {\n",
       "        vertical-align: middle;\n",
       "    }\n",
       "\n",
       "    .dataframe tbody tr th {\n",
       "        vertical-align: top;\n",
       "    }\n",
       "\n",
       "    .dataframe thead th {\n",
       "        text-align: right;\n",
       "    }\n",
       "</style>\n",
       "<table border=\"1\" class=\"dataframe\">\n",
       "  <thead>\n",
       "    <tr style=\"text-align: right;\">\n",
       "      <th></th>\n",
       "      <th>date</th>\n",
       "      <th>title</th>\n",
       "      <th>daily_gross</th>\n",
       "      <th>num_theaters</th>\n",
       "      <th>avg_gross</th>\n",
       "      <th>gross_to_date</th>\n",
       "      <th>day_of_release</th>\n",
       "      <th>distributor</th>\n",
       "    </tr>\n",
       "  </thead>\n",
       "  <tbody>\n",
       "    <tr>\n",
       "      <th>0</th>\n",
       "      <td>2000-01-01</td>\n",
       "      <td>Stuart Little</td>\n",
       "      <td>$6,762,000</td>\n",
       "      <td>2,900</td>\n",
       "      <td>$2,331</td>\n",
       "      <td>$75,194,370</td>\n",
       "      <td>16</td>\n",
       "      <td>Sony Pictures Entertainment (SPE)</td>\n",
       "    </tr>\n",
       "    <tr>\n",
       "      <th>1</th>\n",
       "      <td>2000-01-01</td>\n",
       "      <td>Any Given Sunday</td>\n",
       "      <td>$6,209,000</td>\n",
       "      <td>2,505</td>\n",
       "      <td>$2,478</td>\n",
       "      <td>$42,404,267</td>\n",
       "      <td>11</td>\n",
       "      <td>Warner Bros.</td>\n",
       "    </tr>\n",
       "    <tr>\n",
       "      <th>2</th>\n",
       "      <td>2000-01-01</td>\n",
       "      <td>The Talented Mr. Ripley</td>\n",
       "      <td>$6,136,000</td>\n",
       "      <td>2,309</td>\n",
       "      <td>$2,657</td>\n",
       "      <td>$35,707,126</td>\n",
       "      <td>8</td>\n",
       "      <td>Paramount Pictures</td>\n",
       "    </tr>\n",
       "    <tr>\n",
       "      <th>3</th>\n",
       "      <td>2000-01-01</td>\n",
       "      <td>The Green Mile</td>\n",
       "      <td>$5,849,000</td>\n",
       "      <td>2,875</td>\n",
       "      <td>$2,034</td>\n",
       "      <td>$73,352,123</td>\n",
       "      <td>23</td>\n",
       "      <td>Warner Bros.</td>\n",
       "    </tr>\n",
       "    <tr>\n",
       "      <th>4</th>\n",
       "      <td>2000-01-01</td>\n",
       "      <td>Toy Story 2</td>\n",
       "      <td>$4,974,364</td>\n",
       "      <td>3,102</td>\n",
       "      <td>$1,603</td>\n",
       "      <td>$204,817,418</td>\n",
       "      <td>44</td>\n",
       "      <td>Walt Disney Studios Motion Pictures</td>\n",
       "    </tr>\n",
       "  </tbody>\n",
       "</table>\n",
       "</div>"
      ],
      "text/plain": [
       "         date                    title daily_gross num_theaters avg_gross  \\\n",
       "0  2000-01-01            Stuart Little  $6,762,000        2,900    $2,331   \n",
       "1  2000-01-01         Any Given Sunday  $6,209,000        2,505    $2,478   \n",
       "2  2000-01-01  The Talented Mr. Ripley  $6,136,000        2,309    $2,657   \n",
       "3  2000-01-01           The Green Mile  $5,849,000        2,875    $2,034   \n",
       "4  2000-01-01              Toy Story 2  $4,974,364        3,102    $1,603   \n",
       "\n",
       "  gross_to_date day_of_release                          distributor  \n",
       "0   $75,194,370             16    Sony Pictures Entertainment (SPE)  \n",
       "1   $42,404,267             11                         Warner Bros.  \n",
       "2   $35,707,126              8                   Paramount Pictures  \n",
       "3   $73,352,123             23                         Warner Bros.  \n",
       "4  $204,817,418             44  Walt Disney Studios Motion Pictures  "
      ]
     },
     "execution_count": 368,
     "metadata": {},
     "output_type": "execute_result"
    }
   ],
   "source": [
    "# read csv \n",
    "df = pd.read_csv('..\\\\bo_data\\\\bo_data_daily.csv', sep=',', header=0)\n",
    "df.head()"
   ]
  },
  {
   "cell_type": "code",
   "execution_count": 370,
   "metadata": {},
   "outputs": [],
   "source": [
    "# remove the non-numeric characters and fill in '-' with NaN\n",
    "\n",
    "# if the movie premiered earlier than the official day of release, day_of_release might be a '-'\n",
    "# to fix this we can replace '-' with 0 if the daily_gross == gross_to_date (this would mean early release)\n",
    "df.loc[(df.day_of_release == '-') & (df.daily_gross == df.gross_to_date), 'day_of_release'] = 0\n",
    "\n",
    "# remove all '-' in other columns and replace with None\n",
    "df.daily_gross = df.daily_gross.replace('-', np.NaN)\n",
    "df.num_theaters = df.num_theaters.replace('-', np.NaN)\n",
    "df.avg_gross = df.avg_gross.replace('-', np.NaN)\n",
    "df.gross_to_date = df.gross_to_date.replace('-', np.NaN)\n",
    "df.day_of_release = df.day_of_release.replace('-', np.NaN)\n",
    "\n",
    "# remove all non-numeric symbols from numeric fields like '$' or ','\n",
    "regex = re.compile(r'[^0-9.]')\n",
    "df.daily_gross = df.daily_gross.str.replace(regex, '', regex=True)\n",
    "df.num_theaters = df.num_theaters.str.replace(regex, '', regex=True)\n",
    "df.avg_gross = df.avg_gross.str.replace(regex, '', regex=True)\n",
    "df.gross_to_date = df.gross_to_date.str.replace(regex, '', regex=True)\n",
    "df.day_of_release = df.day_of_release.str.replace(regex, '', regex=True)\n",
    "\n",
    "# right now all objects in df are str, need to convert to correct type\n",
    "type_dict = {\n",
    "    'title' : str,\n",
    "    'daily_gross' : float,\n",
    "    'num_theaters' : float,\n",
    "    'avg_gross' : float,\n",
    "    'gross_to_date' : float,\n",
    "    'day_of_release' : float,\n",
    "    'distributor' : str      \n",
    "}\n",
    "\n",
    "df = df.astype(type_dict)\n",
    "df.date = pd.to_datetime(df.date)"
   ]
  },
  {
   "cell_type": "code",
   "execution_count": 377,
   "metadata": {},
   "outputs": [
    {
     "name": "stdout",
     "output_type": "stream",
     "text": [
      "total nulls: 21972\n",
      "nulls from distributor: 21659\n",
      "numeric nulls: 313\n"
     ]
    }
   ],
   "source": [
    "print('total nulls:', len(df[df.isnull().any(axis=1)]) + len(df[df.distributor == '-']))\n",
    "print('nulls from distributor:', len(df[df.distributor == '-']))\n",
    "print('numeric nulls:', len(df[df.isnull().any(axis=1)]))"
   ]
  },
  {
   "attachments": {},
   "cell_type": "markdown",
   "metadata": {},
   "source": [
    "#### Impution\n",
    "\n",
    "We need to impute data for num_theaters, avg_gross, gross_to_date, and distributor. The amount of numeric nulls is quite low relative to the total amount of data, and normally I would just remove these rows. But because of the use case, I believe these values are easy and worthy to impute. Imputing distributors will not be as fruitful, but I can try to fill in some of the gaps by seeing if the row just has a missed entry and the distributor for that movie exists in another row.\n",
    "\n",
    "The rules for imputation will be as follows:\n",
    "1. **num_theaters**\n",
    "    * If the missing data is in between days of known value, and those values are the same, then we will assume the middle days also have the same value\n",
    "    * If the endpoints of the interval of Null data have different values, we will take the difference and divide by the amount of days in between and subtract/add in even increments for each day (perfectly linear relationship)\n",
    "    * If the value is missing from the first day we will assume it has the same value of the second day and likewise for the last and penultimate days\n",
    "    * If the value is only a single day with no other surrounding days we can approximate num_theaters as daily_gross/$500 (with a $10 avg price this translates to 50 people per theater)\n",
    "2. **avg_gross**\n",
    "    * Once we impute num theaters we can calculate avg_gross as daily_gross/num_theaters\n",
    "3. **gross_to_date**\n",
    "    * If it is the first or zeroth day of release we can set this values to the daily_gross. If not the first day we can perform the addition by hand.\n",
    "4. **distributor**\n",
    "    * We can check to see if the distributor exists for the movie in any another row. If it does not, we will leave the value as '-'."
   ]
  },
  {
   "attachments": {},
   "cell_type": "markdown",
   "metadata": {},
   "source": [
    "<a id=\"test_for_normality\"></a> \n",
    "### Test for Normality"
   ]
  },
  {
   "attachments": {},
   "cell_type": "markdown",
   "metadata": {},
   "source": [
    "<a id=\"z_test_vs_t_test\"></a> \n",
    "### z-Test vs t-Test"
   ]
  },
  {
   "attachments": {},
   "cell_type": "markdown",
   "metadata": {},
   "source": [
    "<a id=\"confidence_intervals\"></a> \n",
    "### Confidence Intervals"
   ]
  },
  {
   "attachments": {},
   "cell_type": "markdown",
   "metadata": {},
   "source": [
    "<a id=\"anova\"></a> \n",
    "### Analysis of Variance (ANOVA)"
   ]
  },
  {
   "attachments": {},
   "cell_type": "markdown",
   "metadata": {},
   "source": [
    "<a id=\"conclusion\"></a> \n",
    "# Conclusion "
   ]
  }
 ],
 "metadata": {
  "kernelspec": {
   "display_name": "base",
   "language": "python",
   "name": "python3"
  },
  "language_info": {
   "codemirror_mode": {
    "name": "ipython",
    "version": 3
   },
   "file_extension": ".py",
   "mimetype": "text/x-python",
   "name": "python",
   "nbconvert_exporter": "python",
   "pygments_lexer": "ipython3",
   "version": "3.9.7"
  },
  "orig_nbformat": 4,
  "vscode": {
   "interpreter": {
    "hash": "eda7169a73b899e3a4265a2c61d87a7732123594a73e74f27b74e7579ab96fbe"
   }
  }
 },
 "nbformat": 4,
 "nbformat_minor": 2
}
